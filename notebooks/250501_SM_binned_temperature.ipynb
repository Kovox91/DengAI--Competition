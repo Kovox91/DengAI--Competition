{
 "cells": [
  {
   "cell_type": "code",
   "execution_count": 1,
   "id": "a5e77cd3",
   "metadata": {},
   "outputs": [],
   "source": [
    "import sys\n",
    "import os\n",
    "\n",
    "# Get current working directory (e.g., notebook location)\n",
    "notebook_dir = os.getcwd()\n",
    "\n",
    "# Construct the path to the correct directory\n",
    "parent_dir = os.path.abspath(os.path.join(notebook_dir, '../src'))\n",
    "\n",
    "# Add it to sys.path\n",
    "sys.path.insert(0, parent_dir)\n",
    "\n",
    "from functions.loading import load_csv\n",
    "from functions.merging import merge_dataframes\n",
    "from functions.imputation import (\n",
    "    impute_with_mean,\n",
    "    add_cyclical_features,\n",
    "    add_lag_and_rolling_features,\n",
    ")\n",
    "from functions.remerge import remerge\n",
    "from functions.train import train_model\n",
    "from functions.test import test_model, get_min_from_csv\n",
    "from functions.submission import create_submission\n",
    "from functions.encoding import removal_nonnumeric_columns\n",
    "from functions.split import split_data\n",
    "from functions.predict import make_prediction"
   ]
  },
  {
   "cell_type": "code",
   "execution_count": 2,
   "id": "6d005fe4",
   "metadata": {},
   "outputs": [
    {
     "name": "stdout",
     "output_type": "stream",
     "text": [
      "  city  year  weekofyear week_start_date  total_cases  month  dayofweek  \\\n",
      "0   sj  1990          18      1990-04-30          4.0      4          0   \n",
      "1   sj  1990          19      1990-05-07          5.0      5          0   \n",
      "2   sj  1990          20      1990-05-14          4.0      5          0   \n",
      "3   sj  1990          21      1990-05-21          3.0      5          0   \n",
      "4   sj  1990          22      1990-05-28          6.0      5          0   \n",
      "\n",
      "   month_sin  weekofyear_sin  dayofweek_sin  ...  ndvi_ne_lag3  ndvi_ne_lag4  \\\n",
      "0   0.866025        0.845596            0.0  ...           NaN           NaN   \n",
      "1   0.500000        0.776524            0.0  ...           NaN           NaN   \n",
      "2   0.500000        0.696551            0.0  ...           NaN           NaN   \n",
      "3   0.500000          0.6068            0.0  ...        0.1226           NaN   \n",
      "4   0.500000        0.508531            0.0  ...        0.1699        0.1226   \n",
      "\n",
      "   ndvi_ne_rollmean3  ndvi_ne_rollmean5  ndvi_nw_lag1  ndvi_nw_lag2  \\\n",
      "0                NaN                NaN           NaN           NaN   \n",
      "1                NaN                NaN      0.103725           NaN   \n",
      "2           0.108250                NaN      0.142175      0.103725   \n",
      "3           0.110261                NaN      0.172967      0.142175   \n",
      "4           0.119028           0.129917      0.245067      0.172967   \n",
      "\n",
      "   ndvi_nw_lag3  ndvi_nw_lag4  ndvi_nw_rollmean3  ndvi_nw_rollmean5  \n",
      "0           NaN           NaN                NaN                NaN  \n",
      "1           NaN           NaN                NaN                NaN  \n",
      "2           NaN           NaN           0.139622                NaN  \n",
      "3      0.103725           NaN           0.186736                NaN  \n",
      "4      0.142175      0.103725           0.226744           0.185227  \n",
      "\n",
      "[5 rows x 130 columns]\n"
     ]
    },
    {
     "name": "stderr",
     "output_type": "stream",
     "text": [
      "/home/sascha/Documents/DSR/DengAI--Competition/src/functions/imputation.py:58: PerformanceWarning: DataFrame is highly fragmented.  This is usually the result of calling `frame.insert` many times, which has poor performance.  Consider joining all columns at once using pd.concat(axis=1) instead. To get a de-fragmented frame, use `newframe = frame.copy()`\n",
      "  df[f\"{col}_lag{lag}\"] = df.groupby(\"city\")[col].shift(lag)\n",
      "/home/sascha/Documents/DSR/DengAI--Competition/src/functions/imputation.py:58: PerformanceWarning: DataFrame is highly fragmented.  This is usually the result of calling `frame.insert` many times, which has poor performance.  Consider joining all columns at once using pd.concat(axis=1) instead. To get a de-fragmented frame, use `newframe = frame.copy()`\n",
      "  df[f\"{col}_lag{lag}\"] = df.groupby(\"city\")[col].shift(lag)\n",
      "/home/sascha/Documents/DSR/DengAI--Competition/src/functions/imputation.py:58: PerformanceWarning: DataFrame is highly fragmented.  This is usually the result of calling `frame.insert` many times, which has poor performance.  Consider joining all columns at once using pd.concat(axis=1) instead. To get a de-fragmented frame, use `newframe = frame.copy()`\n",
      "  df[f\"{col}_lag{lag}\"] = df.groupby(\"city\")[col].shift(lag)\n",
      "/home/sascha/Documents/DSR/DengAI--Competition/src/functions/imputation.py:60: PerformanceWarning: DataFrame is highly fragmented.  This is usually the result of calling `frame.insert` many times, which has poor performance.  Consider joining all columns at once using pd.concat(axis=1) instead. To get a de-fragmented frame, use `newframe = frame.copy()`\n",
      "  df[f\"{col}_rollmean{window}\"] = df.groupby(\"city\")[col].transform(\n",
      "/home/sascha/Documents/DSR/DengAI--Competition/src/functions/imputation.py:60: PerformanceWarning: DataFrame is highly fragmented.  This is usually the result of calling `frame.insert` many times, which has poor performance.  Consider joining all columns at once using pd.concat(axis=1) instead. To get a de-fragmented frame, use `newframe = frame.copy()`\n",
      "  df[f\"{col}_rollmean{window}\"] = df.groupby(\"city\")[col].transform(\n",
      "/home/sascha/Documents/DSR/DengAI--Competition/src/functions/imputation.py:58: PerformanceWarning: DataFrame is highly fragmented.  This is usually the result of calling `frame.insert` many times, which has poor performance.  Consider joining all columns at once using pd.concat(axis=1) instead. To get a de-fragmented frame, use `newframe = frame.copy()`\n",
      "  df[f\"{col}_lag{lag}\"] = df.groupby(\"city\")[col].shift(lag)\n",
      "/home/sascha/Documents/DSR/DengAI--Competition/src/functions/imputation.py:58: PerformanceWarning: DataFrame is highly fragmented.  This is usually the result of calling `frame.insert` many times, which has poor performance.  Consider joining all columns at once using pd.concat(axis=1) instead. To get a de-fragmented frame, use `newframe = frame.copy()`\n",
      "  df[f\"{col}_lag{lag}\"] = df.groupby(\"city\")[col].shift(lag)\n",
      "/home/sascha/Documents/DSR/DengAI--Competition/src/functions/imputation.py:58: PerformanceWarning: DataFrame is highly fragmented.  This is usually the result of calling `frame.insert` many times, which has poor performance.  Consider joining all columns at once using pd.concat(axis=1) instead. To get a de-fragmented frame, use `newframe = frame.copy()`\n",
      "  df[f\"{col}_lag{lag}\"] = df.groupby(\"city\")[col].shift(lag)\n",
      "/home/sascha/Documents/DSR/DengAI--Competition/src/functions/imputation.py:58: PerformanceWarning: DataFrame is highly fragmented.  This is usually the result of calling `frame.insert` many times, which has poor performance.  Consider joining all columns at once using pd.concat(axis=1) instead. To get a de-fragmented frame, use `newframe = frame.copy()`\n",
      "  df[f\"{col}_lag{lag}\"] = df.groupby(\"city\")[col].shift(lag)\n",
      "/home/sascha/Documents/DSR/DengAI--Competition/src/functions/imputation.py:60: PerformanceWarning: DataFrame is highly fragmented.  This is usually the result of calling `frame.insert` many times, which has poor performance.  Consider joining all columns at once using pd.concat(axis=1) instead. To get a de-fragmented frame, use `newframe = frame.copy()`\n",
      "  df[f\"{col}_rollmean{window}\"] = df.groupby(\"city\")[col].transform(\n",
      "/home/sascha/Documents/DSR/DengAI--Competition/src/functions/imputation.py:60: PerformanceWarning: DataFrame is highly fragmented.  This is usually the result of calling `frame.insert` many times, which has poor performance.  Consider joining all columns at once using pd.concat(axis=1) instead. To get a de-fragmented frame, use `newframe = frame.copy()`\n",
      "  df[f\"{col}_rollmean{window}\"] = df.groupby(\"city\")[col].transform(\n",
      "/home/sascha/Documents/DSR/DengAI--Competition/src/functions/imputation.py:58: PerformanceWarning: DataFrame is highly fragmented.  This is usually the result of calling `frame.insert` many times, which has poor performance.  Consider joining all columns at once using pd.concat(axis=1) instead. To get a de-fragmented frame, use `newframe = frame.copy()`\n",
      "  df[f\"{col}_lag{lag}\"] = df.groupby(\"city\")[col].shift(lag)\n",
      "/home/sascha/Documents/DSR/DengAI--Competition/src/functions/imputation.py:58: PerformanceWarning: DataFrame is highly fragmented.  This is usually the result of calling `frame.insert` many times, which has poor performance.  Consider joining all columns at once using pd.concat(axis=1) instead. To get a de-fragmented frame, use `newframe = frame.copy()`\n",
      "  df[f\"{col}_lag{lag}\"] = df.groupby(\"city\")[col].shift(lag)\n",
      "/home/sascha/Documents/DSR/DengAI--Competition/src/functions/imputation.py:58: PerformanceWarning: DataFrame is highly fragmented.  This is usually the result of calling `frame.insert` many times, which has poor performance.  Consider joining all columns at once using pd.concat(axis=1) instead. To get a de-fragmented frame, use `newframe = frame.copy()`\n",
      "  df[f\"{col}_lag{lag}\"] = df.groupby(\"city\")[col].shift(lag)\n",
      "/home/sascha/Documents/DSR/DengAI--Competition/src/functions/imputation.py:58: PerformanceWarning: DataFrame is highly fragmented.  This is usually the result of calling `frame.insert` many times, which has poor performance.  Consider joining all columns at once using pd.concat(axis=1) instead. To get a de-fragmented frame, use `newframe = frame.copy()`\n",
      "  df[f\"{col}_lag{lag}\"] = df.groupby(\"city\")[col].shift(lag)\n",
      "/home/sascha/Documents/DSR/DengAI--Competition/src/functions/imputation.py:60: PerformanceWarning: DataFrame is highly fragmented.  This is usually the result of calling `frame.insert` many times, which has poor performance.  Consider joining all columns at once using pd.concat(axis=1) instead. To get a de-fragmented frame, use `newframe = frame.copy()`\n",
      "  df[f\"{col}_rollmean{window}\"] = df.groupby(\"city\")[col].transform(\n",
      "/home/sascha/Documents/DSR/DengAI--Competition/src/functions/imputation.py:60: PerformanceWarning: DataFrame is highly fragmented.  This is usually the result of calling `frame.insert` many times, which has poor performance.  Consider joining all columns at once using pd.concat(axis=1) instead. To get a de-fragmented frame, use `newframe = frame.copy()`\n",
      "  df[f\"{col}_rollmean{window}\"] = df.groupby(\"city\")[col].transform(\n",
      "/home/sascha/Documents/DSR/DengAI--Competition/src/functions/imputation.py:58: PerformanceWarning: DataFrame is highly fragmented.  This is usually the result of calling `frame.insert` many times, which has poor performance.  Consider joining all columns at once using pd.concat(axis=1) instead. To get a de-fragmented frame, use `newframe = frame.copy()`\n",
      "  df[f\"{col}_lag{lag}\"] = df.groupby(\"city\")[col].shift(lag)\n",
      "/home/sascha/Documents/DSR/DengAI--Competition/src/functions/imputation.py:58: PerformanceWarning: DataFrame is highly fragmented.  This is usually the result of calling `frame.insert` many times, which has poor performance.  Consider joining all columns at once using pd.concat(axis=1) instead. To get a de-fragmented frame, use `newframe = frame.copy()`\n",
      "  df[f\"{col}_lag{lag}\"] = df.groupby(\"city\")[col].shift(lag)\n",
      "/home/sascha/Documents/DSR/DengAI--Competition/src/functions/imputation.py:58: PerformanceWarning: DataFrame is highly fragmented.  This is usually the result of calling `frame.insert` many times, which has poor performance.  Consider joining all columns at once using pd.concat(axis=1) instead. To get a de-fragmented frame, use `newframe = frame.copy()`\n",
      "  df[f\"{col}_lag{lag}\"] = df.groupby(\"city\")[col].shift(lag)\n",
      "/home/sascha/Documents/DSR/DengAI--Competition/src/functions/imputation.py:58: PerformanceWarning: DataFrame is highly fragmented.  This is usually the result of calling `frame.insert` many times, which has poor performance.  Consider joining all columns at once using pd.concat(axis=1) instead. To get a de-fragmented frame, use `newframe = frame.copy()`\n",
      "  df[f\"{col}_lag{lag}\"] = df.groupby(\"city\")[col].shift(lag)\n",
      "/home/sascha/Documents/DSR/DengAI--Competition/src/functions/imputation.py:60: PerformanceWarning: DataFrame is highly fragmented.  This is usually the result of calling `frame.insert` many times, which has poor performance.  Consider joining all columns at once using pd.concat(axis=1) instead. To get a de-fragmented frame, use `newframe = frame.copy()`\n",
      "  df[f\"{col}_rollmean{window}\"] = df.groupby(\"city\")[col].transform(\n",
      "/home/sascha/Documents/DSR/DengAI--Competition/src/functions/imputation.py:60: PerformanceWarning: DataFrame is highly fragmented.  This is usually the result of calling `frame.insert` many times, which has poor performance.  Consider joining all columns at once using pd.concat(axis=1) instead. To get a de-fragmented frame, use `newframe = frame.copy()`\n",
      "  df[f\"{col}_rollmean{window}\"] = df.groupby(\"city\")[col].transform(\n",
      "/home/sascha/Documents/DSR/DengAI--Competition/src/functions/imputation.py:58: PerformanceWarning: DataFrame is highly fragmented.  This is usually the result of calling `frame.insert` many times, which has poor performance.  Consider joining all columns at once using pd.concat(axis=1) instead. To get a de-fragmented frame, use `newframe = frame.copy()`\n",
      "  df[f\"{col}_lag{lag}\"] = df.groupby(\"city\")[col].shift(lag)\n",
      "/home/sascha/Documents/DSR/DengAI--Competition/src/functions/imputation.py:58: PerformanceWarning: DataFrame is highly fragmented.  This is usually the result of calling `frame.insert` many times, which has poor performance.  Consider joining all columns at once using pd.concat(axis=1) instead. To get a de-fragmented frame, use `newframe = frame.copy()`\n",
      "  df[f\"{col}_lag{lag}\"] = df.groupby(\"city\")[col].shift(lag)\n",
      "/home/sascha/Documents/DSR/DengAI--Competition/src/functions/imputation.py:58: PerformanceWarning: DataFrame is highly fragmented.  This is usually the result of calling `frame.insert` many times, which has poor performance.  Consider joining all columns at once using pd.concat(axis=1) instead. To get a de-fragmented frame, use `newframe = frame.copy()`\n",
      "  df[f\"{col}_lag{lag}\"] = df.groupby(\"city\")[col].shift(lag)\n",
      "/home/sascha/Documents/DSR/DengAI--Competition/src/functions/imputation.py:58: PerformanceWarning: DataFrame is highly fragmented.  This is usually the result of calling `frame.insert` many times, which has poor performance.  Consider joining all columns at once using pd.concat(axis=1) instead. To get a de-fragmented frame, use `newframe = frame.copy()`\n",
      "  df[f\"{col}_lag{lag}\"] = df.groupby(\"city\")[col].shift(lag)\n",
      "/home/sascha/Documents/DSR/DengAI--Competition/src/functions/imputation.py:60: PerformanceWarning: DataFrame is highly fragmented.  This is usually the result of calling `frame.insert` many times, which has poor performance.  Consider joining all columns at once using pd.concat(axis=1) instead. To get a de-fragmented frame, use `newframe = frame.copy()`\n",
      "  df[f\"{col}_rollmean{window}\"] = df.groupby(\"city\")[col].transform(\n",
      "/home/sascha/Documents/DSR/DengAI--Competition/src/functions/imputation.py:60: PerformanceWarning: DataFrame is highly fragmented.  This is usually the result of calling `frame.insert` many times, which has poor performance.  Consider joining all columns at once using pd.concat(axis=1) instead. To get a de-fragmented frame, use `newframe = frame.copy()`\n",
      "  df[f\"{col}_rollmean{window}\"] = df.groupby(\"city\")[col].transform(\n"
     ]
    }
   ],
   "source": [
    "# read data\n",
    "train_features = load_csv(\"../data/01_raw/dengue_features_train.csv\")\n",
    "train_labels = load_csv(\"../data/01_raw/dengue_labels_train.csv\")\n",
    "test_features = load_csv(\"../data/01_raw/dengue_features_test.csv\")\n",
    "\n",
    "df = merge_dataframes(\n",
    "    train_features, train_labels, test_features, on=[\"city\", \"weekofyear\", \"year\"]\n",
    ")\n",
    "df = add_cyclical_features(df)\n",
    "\n",
    "df = add_lag_and_rolling_features(df)\n",
    "df = impute_with_mean(df, \"total_cases\")"
   ]
  },
  {
   "cell_type": "markdown",
   "id": "2224633b",
   "metadata": {},
   "source": [
    "new feature: binning the temp and make it an dinary column for 2 stages: egg, larva & pupa, adult\n",
    "temperature limits: \n",
    "\n",
    "- larva:  15-35 : good, 3 and 4 weeks lag\n",
    "- adult: 10 - 39: good, 1 and 2 weeks lag"
   ]
  },
  {
   "cell_type": "code",
   "execution_count": null,
   "id": "c291a3ce",
   "metadata": {},
   "outputs": [
    {
     "name": "stderr",
     "output_type": "stream",
     "text": [
      "/tmp/ipykernel_110394/1151437747.py:1: PerformanceWarning: DataFrame is highly fragmented.  This is usually the result of calling `frame.insert` many times, which has poor performance.  Consider joining all columns at once using pd.concat(axis=1) instead. To get a de-fragmented frame, use `newframe = frame.copy()`\n",
      "  df['good_larva_4'] = ((df['station_avg_temp_c_lag4'] >= 15) & (df['station_avg_temp_c_lag4'] <= 35)).astype(int)\n",
      "/tmp/ipykernel_110394/1151437747.py:2: PerformanceWarning: DataFrame is highly fragmented.  This is usually the result of calling `frame.insert` many times, which has poor performance.  Consider joining all columns at once using pd.concat(axis=1) instead. To get a de-fragmented frame, use `newframe = frame.copy()`\n",
      "  df['good_larva_3'] = ((df['station_avg_temp_c_lag3'] >= 15) & (df['station_avg_temp_c_lag3'] <= 35)).astype(int)\n",
      "/tmp/ipykernel_110394/1151437747.py:4: PerformanceWarning: DataFrame is highly fragmented.  This is usually the result of calling `frame.insert` many times, which has poor performance.  Consider joining all columns at once using pd.concat(axis=1) instead. To get a de-fragmented frame, use `newframe = frame.copy()`\n",
      "  df['good_adult_2'] = ((df['station_avg_temp_c_lag2'] >= 10) & (df['station_avg_temp_c_lag2'] <= 39)).astype(int)\n",
      "/tmp/ipykernel_110394/1151437747.py:5: PerformanceWarning: DataFrame is highly fragmented.  This is usually the result of calling `frame.insert` many times, which has poor performance.  Consider joining all columns at once using pd.concat(axis=1) instead. To get a de-fragmented frame, use `newframe = frame.copy()`\n",
      "  df['good_adult_1'] = ((df['station_avg_temp_c_lag1'] >= 10) & (df['station_avg_temp_c_lag1'] <= 39)).astype(int)\n"
     ]
    }
   ],
   "source": [
    "df['good_larva_4'] = ((df['station_avg_temp_c_lag4'] >= 15) & (df['station_avg_temp_c_lag4'] <= 35)).astype(int)\n",
    "df['good_larva_3'] = ((df['station_avg_temp_c_lag3'] >= 15) & (df['station_avg_temp_c_lag3'] <= 35)).astype(int)\n",
    "\n",
    "df['good_larva_4-2'] = ((df['reanalysis_air_temp_k_lag4'] >= 15) & (df['reanalysis_air_temp_k_lag4'] <= 35)).astype(int)\n",
    "df['good_larva_3-2'] = ((df['reanalysis_air_temp_k_lag3'] >= 15) & (df['reanalysis_air_temp_k_lag3'] <= 35)).astype(int)\n",
    "\n",
    "df['good_adult_2'] = ((df['station_avg_temp_c_lag2'] >= 10) & (df['station_avg_temp_c_lag2'] <= 39)).astype(int)\n",
    "df['good_adult_1'] = ((df['station_avg_temp_c_lag1'] >= 10) & (df['station_avg_temp_c_lag1'] <= 39)).astype(int)\n",
    "\n",
    "df['good_adult_2'] = ((df['reanalysis_air_temp_k_lag2'] >= 10) & (df['reanalysis_air_temp_k_lag2'] <= 39)).astype(int)\n",
    "df['good_adult_1'] = ((df['reanalysis_air_temp_k_lag1'] >= 10) & (df['reanalysis_air_temp_k_lag1'] <= 39)).astype(int)\n"
   ]
  },
  {
   "cell_type": "code",
   "execution_count": null,
   "id": "958d1052",
   "metadata": {},
   "outputs": [
    {
     "name": "stderr",
     "output_type": "stream",
     "text": [
      "/home/sascha/Documents/DSR/DengAI--Competition/src/functions/encoding.py:18: FutureWarning: Downcasting behavior in `replace` is deprecated and will be removed in a future version. To retain the old behavior, explicitly call `result.infer_objects(copy=False)`. To opt-in to the future behavior, set `pd.set_option('future.no_silent_downcasting', True)`\n",
      "  df[\"city\"] = df[\"city\"].replace({\"sj\": 1, \"iq\": 2})\n"
     ]
    },
    {
     "name": "stdout",
     "output_type": "stream",
     "text": [
      "Mean absolute Error is 15.256674950082582\n",
      "Submission file created at ../data/03_submissions/naive_model_30_04_1314.csv\n"
     ]
    }
   ],
   "source": [
    "df.reanalysis_air_temp_k_lag4\n",
    "df = removal_nonnumeric_columns(df)\n",
    "train_X, test_X, train_y, test_y, validation = split_data(df)\n",
    "train_X, test_X, train_y, test_y, validation = split_data(df)\n",
    "\n",
    "model = train_model(train_X, train_y)\n",
    "best_MAE = 50\n",
    "\n",
    "current_MAE = test_model(model, test_X, test_y)\n",
    "\n",
    "if current_MAE >= best_MAE:\n",
    "    print(\"Model did not perform better than previous models. Aborting.\")\n",
    "    print(\"Model did not perform better than previous models. Aborting.\")\n",
    "\n",
    "else:\n",
    "    # CHECK IF MAE IS GOOD ENOUGH\n",
    "    X = remerge(train_X, test_X)\n",
    "    y = remerge(train_y, test_y)\n",
    "\n",
    "    final_model = train_model(X, y)\n",
    "\n",
    "    predictions = make_prediction(validation, final_model)\n",
    "\n",
    "    create_submission(\n",
    "        predictions, validation, \"../data/03_submissions/naive_model_30_04_1314.csv\"\n",
    "    )"
   ]
  }
 ],
 "metadata": {
  "kernelspec": {
   "display_name": "mini_comp",
   "language": "python",
   "name": "python3"
  },
  "language_info": {
   "codemirror_mode": {
    "name": "ipython",
    "version": 3
   },
   "file_extension": ".py",
   "mimetype": "text/x-python",
   "name": "python",
   "nbconvert_exporter": "python",
   "pygments_lexer": "ipython3",
   "version": "3.13.2"
  }
 },
 "nbformat": 4,
 "nbformat_minor": 5
}
